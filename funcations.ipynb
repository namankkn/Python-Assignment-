{
  "nbformat": 4,
  "nbformat_minor": 0,
  "metadata": {
    "colab": {
      "provenance": []
    },
    "kernelspec": {
      "name": "python3",
      "display_name": "Python 3"
    },
    "language_info": {
      "name": "python"
    }
  },
  "cells": [
    {
      "cell_type": "code",
      "execution_count": null,
      "metadata": {
        "id": "Hv8yvz-b9Dya"
      },
      "outputs": [],
      "source": []
    },
    {
      "cell_type": "markdown",
      "source": [
        "# Python Basics"
      ],
      "metadata": {
        "id": "1TthArKw_K_h"
      }
    },
    {
      "cell_type": "markdown",
      "source": [
        "\n",
        "1.  What is Python, and why is it popular?\n",
        "\n",
        " _ Python is a versatile high-level interpreted programming language known for its readability and ease of use. It's popular due to its simple syntax, extensive libraries, and adaptability to various fields like web development, data science, and machine learning.\n",
        "\n",
        "\n",
        " 2. What is an interpreter in Python?\n",
        "\n",
        " _ A python interpreter is a computer program that converts each high-level program statement into machine code. An interpreter translates the command that you write out into code that the computer can understand. However, to better understand this definition, we must explain what high-level and low-level languages are.\n",
        "\n",
        "\n",
        "3. What are pre-defined keywords in Python?\n",
        "\n",
        "_ Keywords in Python are reserved words that have specific meanings and purposes within the language's syntax. They serve as building blocks for constructing programs and cannot be used as identifiers like variable or function names. These keywords are always available and do not need to be imported into your code.\n",
        "\n",
        "\n",
        "4. Can keywords be used as variable names?\n",
        "\n",
        "_ No, keywords cannot be used as variable names in Python. Keywords are reserved words that have specific meanings within the language's syntax. Using them as variable names would lead to syntax errors because the interpreter would not be able to distinguish between the intended keyword usage and the variable name.\n",
        "\n",
        "\n",
        "5.  What is mutability in Python?\n",
        "\n",
        "_ In Python, mutability refers to an object's ability to be modified after its creation. Mutable objects can have their values changed, updated, or modified without creating a new object. This means that once a mutable object is initialized, you can directly alter its content.\n",
        "\n",
        "\n",
        "6.  Why are lists mutable, but tuples are immutable?\n",
        "\n",
        "_ Tuples and lists are the same in every way except two: tuples use parentheses instead of square brackets, and the items in tuples cannot be modified but the items in lists can be modified. We often call lists mutable meaning they can be changed and tuples immutable meaning they cannot be changed.\n",
        "\n",
        "\n",
        "7. What is the difference between “==” and “is” operators in Python?\n",
        "\n",
        "_ The == and is operators in Python serve different purposes:\n",
        "\n",
        "== Equality Operator\n",
        "\n",
        "Compares the values of two objects.\n",
        "Returns True if the values are equal, and False otherwise.\n",
        "Focuses on the content or data held by the objects.\n",
        "\n",
        "is:  Identity Operator\n",
        "\n",
        "Checks if two variables refer to the same object in memory.\n",
        "Returns True if they point to the same memory location, and False otherwise.\n",
        "Focuses on whether two variables are aliases of the same object.\n",
        "\n",
        "\n",
        "8. What are logical operators in Python?\n",
        "_ Logical operators in Python are used to combine or modify boolean expressions True or False. There are three main logical operators\n",
        "and Returns True if both operands are True. Otherwise, it returns False.\n",
        "Python.\n",
        "\n",
        "exple_\n",
        "\n",
        "    x = 5\n",
        "    y = 10\n",
        "    result = (x > 0) and (y < 20) # True because both conditions are true\n",
        "\n",
        "\n",
        "9.  What is type casting in Python?\n",
        "\n",
        "_ Type casting, also known as type conversion, is the process of changing a variable's data type to another. This is crucial for ensuring compatibility between different data types and enhancing the flexibility of Python code.\n",
        "\n",
        " _In Python, type casting can be done in two ways:\n",
        "1. Implicit Type Conversion:\n",
        "\n",
        "2. Explicit Type Conversion:\n",
        "\n",
        "\n",
        "10.  What is the difference between implicit and explicit type casting?\n",
        "\n",
        "_ Implicit type casting, also known as widening or upcasting, is when the compiler automatically converts a data type to a larger or more inclusive type. Explicit type casting, also called narrowing or downcasting, requires the programmer to use a cast operator to manually convert a data type to a smaller or less inclusive type.\n",
        "\n",
        "\n",
        "11.  What is the purpose of conditional statements in Python?\n",
        "\n",
        "_ Conditional statements in Python are used to control the flow of execution based on whether a certain condition is true or false. They allow the program to make decisions and execute different code blocks depending on the situation.\n",
        "\n",
        ">The most common conditional statements in Python are:\n",
        "\n",
        "if: Executes a block of code if a condition is true.\n",
        "\n",
        "elif: else if Checks another condition if the previous if condition is false.\n",
        "\n",
        "else: Executes a block of code if none of the preceding if or elif conditions are true.\n",
        "\n",
        "\n",
        "12.  How does the elif statement work?\n",
        "\n",
        "_ 'Elif' stands for 'else if' and is used in Python programming to test multiple conditions. It is written following an if statement in Python to check an alternative condition if the first condition is false. The code block under the elif statement will be executed only if its condition is true.\n",
        "\n",
        "\n",
        "13. What is the difference between for and while loop?\n",
        "\n",
        "_ For Loop:\n",
        "\n",
        "Known Iterations:\n",
        "for loops are used when you know exactly how many times you need to repeat a block of code. This is often the case when iterating over a collection like a list or array where the number of items is known.\n",
        "Initialization, Condition, Increment:\n",
        "for loops typically have an initialization step setting a loop variable, a condition determining when the loop should end, and an increment step changing the loop variable.\n",
        "\n",
        "Example:\n",
        "If you want to print the numbers from 1 to 10, you'd use a for loop with a known range or counter.\n",
        "\n",
        "_ While Loop:\n",
        "\n",
        "Dynamic Condition:\n",
        "while loops are used when the number of iterations depends on a condition that might change during the loop's execution. The loop continues as long as the condition remains true.\n",
        "No Fixed Number of Iterations:\n",
        "You don't necessarily need to know how many times the loop will run beforehand.\n",
        "\n",
        "Example:\n",
        "If you want to keep asking the user for input until they enter a specific value, you would use a while loop with a condition based on the user's input.\n",
        "\n",
        "\n",
        "14.  Describe a scenario where a while loop is more suitable than a for loop?\n",
        "\n",
        "_ In programming, for loops are best used when you know the number of iterations ahead of time, whereas a while loop is best used when you don't know the number of iterations in advance. Both methods can help you iterate through your code.\n",
        "\n"
      ],
      "metadata": {
        "id": "Igd5Tz7w__CG"
      }
    },
    {
      "cell_type": "code",
      "source": [
        "#Practical Questions\n",
        "\n",
        "#1 Write a Python program to print \"Hello, World!\n",
        "print(\"hello world\")\n",
        "\n",
        "\n"
      ],
      "metadata": {
        "colab": {
          "base_uri": "https://localhost:8080/"
        },
        "id": "RzJByRh0_-Eb",
        "outputId": "2563c109-c1b3-4139-cbb9-2e9be820f99f"
      },
      "execution_count": null,
      "outputs": [
        {
          "output_type": "stream",
          "name": "stdout",
          "text": [
            "hello world\n"
          ]
        }
      ]
    },
    {
      "cell_type": "code",
      "source": [
        "#2 Write a Python program that displays your name and age\n",
        "\n",
        "name = \"naman sen\"\n",
        "age = 30\n",
        "\n",
        "print(\"name:\", name)\n",
        "print(\"age:\", age)"
      ],
      "metadata": {
        "colab": {
          "base_uri": "https://localhost:8080/"
        },
        "id": "3_5_v9xUKeiU",
        "outputId": "1f361d9f-f9c3-43c0-83d0-3849798b5f08"
      },
      "execution_count": null,
      "outputs": [
        {
          "output_type": "stream",
          "name": "stdout",
          "text": [
            "name: naman sen\n",
            "age: 30\n"
          ]
        }
      ]
    },
    {
      "cell_type": "code",
      "source": [
        "#3 Write code to print all the pre-defined keywords in Python using the keyword library.\n",
        "\n",
        "import keyword\n",
        "print(keyword.kwlist)"
      ],
      "metadata": {
        "colab": {
          "base_uri": "https://localhost:8080/"
        },
        "id": "n6zG5zg8LH9F",
        "outputId": "d499ff38-5020-476a-dee9-dcbc7ad5bac1"
      },
      "execution_count": null,
      "outputs": [
        {
          "output_type": "stream",
          "name": "stdout",
          "text": [
            "['False', 'None', 'True', 'and', 'as', 'assert', 'async', 'await', 'break', 'class', 'continue', 'def', 'del', 'elif', 'else', 'except', 'finally', 'for', 'from', 'global', 'if', 'import', 'in', 'is', 'lambda', 'nonlocal', 'not', 'or', 'pass', 'raise', 'return', 'try', 'while', 'with', 'yield']\n"
          ]
        }
      ]
    },
    {
      "cell_type": "code",
      "source": [
        "from os import WCOREDUMP\n",
        "#4 Write a program that checks if a given word is a Python keyword.\n",
        "\n",
        "import keyword\n",
        "word=input('enter the word:')\n",
        "if keyword.iskeyword(word):\n",
        "    print('given word is a python keyword', word)\n",
        "else:\n",
        "    print('No, given word is not python keyword', word)\n",
        "\n"
      ],
      "metadata": {
        "colab": {
          "base_uri": "https://localhost:8080/"
        },
        "id": "jpY_kqvdLzPD",
        "outputId": "7470f19d-491c-4327-8c10-77323d93f552"
      },
      "execution_count": null,
      "outputs": [
        {
          "output_type": "stream",
          "name": "stdout",
          "text": [
            "enter the word:else\n",
            "given word is a python keyword else\n"
          ]
        }
      ]
    },
    {
      "cell_type": "code",
      "source": [
        "#5 Create a list and tuple in Python, and demonstrate how attempting to change an element works differently\n",
        "\n",
        "l=[1,2,3]\n",
        "l[0]=10\n",
        "print(\"After chans in l:\",l)\n",
        "\n",
        "t=(1,2,3)\n",
        "try:\n",
        "  t[0]=10\n",
        "except TypeError as e:\n",
        "    print(\"Error: \",e)\n"
      ],
      "metadata": {
        "colab": {
          "base_uri": "https://localhost:8080/"
        },
        "id": "ftS2YIXAMTta",
        "outputId": "05bb5733-08c1-4366-e978-134717bf0332"
      },
      "execution_count": null,
      "outputs": [
        {
          "output_type": "stream",
          "name": "stdout",
          "text": [
            "After chans in l: [10, 2, 3]\n",
            "Error:  'tuple' object does not support item assignment\n"
          ]
        }
      ]
    },
    {
      "cell_type": "code",
      "source": [
        "#Write a program that performs basic arithmetic operations on two user-input numbers\n",
        "num1=float(input('Enter number 1:'))\n",
        "num2=float(input('Enter number 2:'))\n",
        "print('Addition: ',num1+num2)\n",
        "print('Substraction: ',num1-num2)\n",
        "print('Multiplication: ',num1*num2)\n",
        "print('Division: ',num1/num2)"
      ],
      "metadata": {
        "colab": {
          "base_uri": "https://localhost:8080/"
        },
        "id": "1PtGrmmgRa5_",
        "outputId": "a07c6365-5600-4da3-ca3d-1b2e197420ee"
      },
      "execution_count": null,
      "outputs": [
        {
          "output_type": "stream",
          "name": "stdout",
          "text": [
            "Enter number 1:5\n",
            "Enter number 2:50\n",
            "Addition:  55.0\n",
            "Substraction:  -45.0\n",
            "Multiplication:  250.0\n",
            "Division:  0.1\n"
          ]
        }
      ]
    },
    {
      "cell_type": "code",
      "source": [
        "#Write a program to demonstrate the use of logical operators\n",
        "x=True\n",
        "y=False\n",
        "print(\"x and y:\", x and y)\n",
        "print(\"x or y:\", x or y)\n",
        "print(\"not x:\", not x)"
      ],
      "metadata": {
        "colab": {
          "base_uri": "https://localhost:8080/"
        },
        "id": "V2e11zjrfNqx",
        "outputId": "b3622870-bc88-4564-9214-f0cded2df8da"
      },
      "execution_count": null,
      "outputs": [
        {
          "output_type": "stream",
          "name": "stdout",
          "text": [
            "x and y: False\n",
            "x or y: True\n",
            "not x: False\n"
          ]
        }
      ]
    },
    {
      "cell_type": "code",
      "source": [
        "#Write a Python program to convert user input from string to integer, float, and boolean types\n",
        "user_input=input(\"Enter any string: \")\n",
        "print(\"Interger is:\",int(user_input))\n",
        "print(\"Float is:\",float(user_input))\n",
        "print(\"Boolean is:\",bool(user_input))"
      ],
      "metadata": {
        "colab": {
          "base_uri": "https://localhost:8080/"
        },
        "id": "GbXBoW17fk7p",
        "outputId": "42c6ae31-21f6-46a7-d525-c0c1511e835d"
      },
      "execution_count": null,
      "outputs": [
        {
          "output_type": "stream",
          "name": "stdout",
          "text": [
            "Enter any string: 4\n",
            "Interger is: 4\n",
            "Float is: 4.0\n",
            "Boolean is: True\n"
          ]
        }
      ]
    },
    {
      "cell_type": "code",
      "source": [
        "#Write code to demonstrate type casting with list elements\n",
        "lst=['1','2','3']\n",
        "int_lst=[int(i) for i in lst]\n",
        "print(int_lst)"
      ],
      "metadata": {
        "colab": {
          "base_uri": "https://localhost:8080/"
        },
        "id": "zp6WuD8mf4Tr",
        "outputId": "dfe209bc-93a6-4415-ce21-0cbb756d7ba6"
      },
      "execution_count": null,
      "outputs": [
        {
          "output_type": "stream",
          "name": "stdout",
          "text": [
            "[1, 2, 3]\n"
          ]
        }
      ]
    },
    {
      "cell_type": "code",
      "source": [
        "#Write a program that checks if a number is positive, negative, or zero.\n",
        "num=float(input(\"Enter any number:\"))\n",
        "if num == 0:\n",
        "  print(\"Number is zero\")\n",
        "elif num >0:\n",
        "  print(\"Number is positive: \")\n",
        "else:\n",
        "  print(\"Number is negative\")"
      ],
      "metadata": {
        "colab": {
          "base_uri": "https://localhost:8080/"
        },
        "id": "TQWU_1RjgOV0",
        "outputId": "78133732-0bf3-4d37-c941-56d10868a5b9"
      },
      "execution_count": null,
      "outputs": [
        {
          "output_type": "stream",
          "name": "stdout",
          "text": [
            "Enter any number:5\n",
            "Number is positive: \n"
          ]
        }
      ]
    },
    {
      "cell_type": "code",
      "source": [
        "#Write a for loop to print numbers from 1 to 10.\n",
        "for i in range (1,10+1):\n",
        "  print(i)"
      ],
      "metadata": {
        "colab": {
          "base_uri": "https://localhost:8080/"
        },
        "id": "XLnr0xOjhBkM",
        "outputId": "ec763aeb-0b6b-4bfd-ec6f-5d0331d1fe54"
      },
      "execution_count": null,
      "outputs": [
        {
          "output_type": "stream",
          "name": "stdout",
          "text": [
            "1\n",
            "2\n",
            "3\n",
            "4\n",
            "5\n",
            "6\n",
            "7\n",
            "8\n",
            "9\n",
            "10\n"
          ]
        }
      ]
    },
    {
      "cell_type": "code",
      "source": [
        "#Write a Python program to find the sum of all even numbers between 1 and 50\n",
        "total=0\n",
        "for i in range (1, 51):\n",
        "  if i%2==0:\n",
        "    total=total+i\n",
        "\n",
        "print(\"Sum os all even number is: \",total)"
      ],
      "metadata": {
        "colab": {
          "base_uri": "https://localhost:8080/"
        },
        "id": "FRrujfdwhS7i",
        "outputId": "02cf51be-5af3-49bd-c2a3-548bcbe8bae3"
      },
      "execution_count": null,
      "outputs": [
        {
          "output_type": "stream",
          "name": "stdout",
          "text": [
            "Sum os all even number is:  650\n"
          ]
        }
      ]
    },
    {
      "cell_type": "code",
      "source": [
        "#Write a program to reverse a string using a while loop\n",
        "user_string = input(\"Enter a string: \")\n",
        "reversed_string = \"\"\n",
        "index = len(user_string) - 1\n",
        "\n",
        "while index >= 0:\n",
        "    reversed_string =reversed_string+ user_string[index]\n",
        "    index =index- 1\n",
        "\n",
        "print(\"Reversed string:\", reversed_string)"
      ],
      "metadata": {
        "colab": {
          "base_uri": "https://localhost:8080/"
        },
        "id": "bSvWrLxshxdN",
        "outputId": "5ce3029f-9f1a-4f32-d4ae-d1be652945aa"
      },
      "execution_count": null,
      "outputs": [
        {
          "output_type": "stream",
          "name": "stdout",
          "text": [
            "Enter a string: naman\n",
            "Reversed string: naman\n"
          ]
        }
      ]
    },
    {
      "cell_type": "code",
      "source": [
        "#Write a Python program to calculate the factorial of a number provided by the user using a while loop\n",
        "num = int(input(\"Enter a number: \"))\n",
        "factorial = 1\n",
        "i = 1\n",
        "\n",
        "while i <= num:\n",
        "    factorial *= i\n",
        "    i += 1\n",
        "\n",
        "print(\"Factorial of\", num, \"is\", factorial)"
      ],
      "metadata": {
        "colab": {
          "base_uri": "https://localhost:8080/"
        },
        "id": "w6xukj_3hkHl",
        "outputId": "ad22df3c-def2-4d22-a2ee-79f790b84518"
      },
      "execution_count": null,
      "outputs": [
        {
          "output_type": "stream",
          "name": "stdout",
          "text": [
            "Enter a number: 10\n",
            "Factorial of 10 is 3628800\n"
          ]
        }
      ]
    },
    {
      "cell_type": "code",
      "source": [
        "1 files.downlode(\"funcation\")"
      ],
      "metadata": {
        "colab": {
          "base_uri": "https://localhost:8080/",
          "height": 106
        },
        "id": "JGMqJPT3iSGm",
        "outputId": "3866347e-9a15-4fdc-a61d-9bfbec85e72a"
      },
      "execution_count": null,
      "outputs": [
        {
          "output_type": "error",
          "ename": "SyntaxError",
          "evalue": "invalid syntax (<ipython-input-52-0ea2da1ec9bc>, line 1)",
          "traceback": [
            "\u001b[0;36m  File \u001b[0;32m\"<ipython-input-52-0ea2da1ec9bc>\"\u001b[0;36m, line \u001b[0;32m1\u001b[0m\n\u001b[0;31m    1 files.downlode(\"funcation\")\u001b[0m\n\u001b[0m      ^\u001b[0m\n\u001b[0;31mSyntaxError\u001b[0m\u001b[0;31m:\u001b[0m invalid syntax\n"
          ]
        }
      ]
    },
    {
      "cell_type": "code",
      "source": [],
      "metadata": {
        "id": "tyBZSZu4keqh"
      },
      "execution_count": null,
      "outputs": []
    }
  ]
}